{
 "cells": [
  {
   "cell_type": "markdown",
   "metadata": {},
   "source": [
    "# 1. Используя метод вычетов, сгенерировать последовательность из 1.000 псевдослучайных чисел, результат вывести на экран."
   ]
  },
  {
   "cell_type": "code",
   "execution_count": 400,
   "metadata": {},
   "outputs": [],
   "source": [
    "# метод вычетов для генерации псевдослучайных чисел\n",
    "def residual_method(M, m, n):\n",
    "    x = [None]*n\n",
    "    a0 = (2**(-m))\n",
    "    x[0] = (M * a0) % 1\n",
    "    for i in range(1, len(x)):\n",
    "        x[i] = (M * x[i-1]) % 1\n",
    "    return x"
   ]
  },
  {
   "cell_type": "code",
   "execution_count": 401,
   "metadata": {},
   "outputs": [],
   "source": [
    "N = 100\n",
    "# Выбираем большое нечетное число M\n",
    "M = 111455445111\n",
    "# m = 31\n",
    "m = 11\n",
    "\n",
    "pseudo_rand_numbers = residual_method(M, m, N)\n",
    "# pseudo_rand_numbers"
   ]
  },
  {
   "cell_type": "markdown",
   "metadata": {},
   "source": [
    "График полученных псевдослучайных чисел"
   ]
  },
  {
   "cell_type": "code",
   "execution_count": 402,
   "metadata": {},
   "outputs": [
    {
     "data": {
      "image/png": "[encoded data removed]",
      "text/plain": [
       "<Figure size 432x288 with 1 Axes>"
      ]
     },
     "metadata": {
      "needs_background": "light"
     },
     "output_type": "display_data"
    }
   ],
   "source": [
    "%matplotlib inline\n",
    "from matplotlib import pyplot as plt\n",
    "plt.scatter([x for x in range(N)], pseudo_rand_numbers)\n",
    "plt.show()"
   ]
  },
  {
   "cell_type": "markdown",
   "metadata": {},
   "source": [
    "### 1.1 Оценить математическое ожидание полученной последовательности, математическое ожидание и выборочную среднюю вывести на экран."
   ]
  },
  {
   "cell_type": "code",
   "execution_count": 403,
   "metadata": {},
   "outputs": [],
   "source": [
    "# Функция расчета выборочного среднего\n",
    "def mo(pseudo_rand_numbers):\n",
    "    m = 0\n",
    "    for num in pseudo_rand_numbers:\n",
    "        m += num \n",
    "    return m / len(pseudo_rand_numbers)"
   ]
  },
  {
   "cell_type": "code",
   "execution_count": 404,
   "metadata": {},
   "outputs": [
    {
     "name": "stdout",
     "output_type": "stream",
     "text": [
      "Математическое ожидание =  0.5\n",
      "Выборочная средняя =  0.499453125\n"
     ]
    }
   ],
   "source": [
    "print(\"Математическое ожидание = \", 1/2)\n",
    "print(\"Выборочная средняя = \", mo(pseudo_rand_numbers))"
   ]
  },
  {
   "cell_type": "markdown",
   "metadata": {},
   "source": [
    "### 1.2 Оценить дисперсию полученной последовательности, дисперсию и выборочную дисперсию вывести на экран."
   ]
  },
  {
   "cell_type": "code",
   "execution_count": 405,
   "metadata": {},
   "outputs": [],
   "source": [
    "def vd(pseudo_rand_numbers):\n",
    "    m = mo(pseudo_rand_numbers)\n",
    "    d = 0\n",
    "    for num in pseudo_rand_numbers:\n",
    "        d += (num - m) ** 2\n",
    "    return d / (len(pseudo_rand_numbers) - 1)"
   ]
  },
  {
   "cell_type": "code",
   "execution_count": 406,
   "metadata": {},
   "outputs": [
    {
     "name": "stdout",
     "output_type": "stream",
     "text": [
      "Дисперсия =  0.08333333333333333\n",
      "Выборочная дисперсия =  0.08569707427361996\n"
     ]
    }
   ],
   "source": [
    "print(\"Дисперсия = \", 1/12)\n",
    "print(\"Выборочная дисперсия = \", vd(pseudo_rand_numbers))"
   ]
  },
  {
   "cell_type": "markdown",
   "metadata": {},
   "source": [
    "### 1.3 Построить частотную таблицу. Для L >= 10."
   ]
  },
  {
   "cell_type": "code",
   "execution_count": 407,
   "metadata": {},
   "outputs": [],
   "source": [
    "import numpy as np\n",
    "import pandas as pd\n",
    "\n",
    "def find_frequency(table, pseudo_rand_numbers, h):\n",
    "    for i in range(len(table)):\n",
    "        for num in pseudo_rand_numbers:\n",
    "            if table[i][0]  <= num < table[i][1]:\n",
    "                table[i][2] += 1\n",
    "                table[i][3] += 1/N"
   ]
  },
  {
   "cell_type": "code",
   "execution_count": 408,
   "metadata": {},
   "outputs": [
    {
     "data": {
      "text/html": [
       "<div>\n",
       "<style scoped>\n",
       "    .dataframe tbody tr th:only-of-type {\n",
       "        vertical-align: middle;\n",
       "    }\n",
       "\n",
       "    .dataframe tbody tr th {\n",
       "        vertical-align: top;\n",
       "    }\n",
       "\n",
       "    .dataframe thead th {\n",
       "        text-align: right;\n",
       "    }\n",
       "</style>\n",
       "<table border=\"1\" class=\"dataframe\">\n",
       "  <thead>\n",
       "    <tr style=\"text-align: right;\">\n",
       "      <th></th>\n",
       "      <th>Интервал (x0)</th>\n",
       "      <th>Интервал (x1)</th>\n",
       "      <th>Кол-во СВ, попавших в интервал</th>\n",
       "      <th>Относительная частота попадания</th>\n",
       "    </tr>\n",
       "  </thead>\n",
       "  <tbody>\n",
       "    <tr>\n",
       "      <td>0</td>\n",
       "      <td>0.00</td>\n",
       "      <td>0.05</td>\n",
       "      <td>4.0</td>\n",
       "      <td>0.04</td>\n",
       "    </tr>\n",
       "    <tr>\n",
       "      <td>1</td>\n",
       "      <td>0.05</td>\n",
       "      <td>0.10</td>\n",
       "      <td>7.0</td>\n",
       "      <td>0.07</td>\n",
       "    </tr>\n",
       "    <tr>\n",
       "      <td>2</td>\n",
       "      <td>0.10</td>\n",
       "      <td>0.15</td>\n",
       "      <td>3.0</td>\n",
       "      <td>0.03</td>\n",
       "    </tr>\n",
       "    <tr>\n",
       "      <td>3</td>\n",
       "      <td>0.15</td>\n",
       "      <td>0.20</td>\n",
       "      <td>7.0</td>\n",
       "      <td>0.07</td>\n",
       "    </tr>\n",
       "    <tr>\n",
       "      <td>4</td>\n",
       "      <td>0.20</td>\n",
       "      <td>0.25</td>\n",
       "      <td>5.0</td>\n",
       "      <td>0.05</td>\n",
       "    </tr>\n",
       "    <tr>\n",
       "      <td>5</td>\n",
       "      <td>0.25</td>\n",
       "      <td>0.30</td>\n",
       "      <td>6.0</td>\n",
       "      <td>0.06</td>\n",
       "    </tr>\n",
       "    <tr>\n",
       "      <td>6</td>\n",
       "      <td>0.30</td>\n",
       "      <td>0.35</td>\n",
       "      <td>0.0</td>\n",
       "      <td>0.00</td>\n",
       "    </tr>\n",
       "    <tr>\n",
       "      <td>7</td>\n",
       "      <td>0.35</td>\n",
       "      <td>0.40</td>\n",
       "      <td>6.0</td>\n",
       "      <td>0.06</td>\n",
       "    </tr>\n",
       "    <tr>\n",
       "      <td>8</td>\n",
       "      <td>0.40</td>\n",
       "      <td>0.45</td>\n",
       "      <td>8.0</td>\n",
       "      <td>0.08</td>\n",
       "    </tr>\n",
       "    <tr>\n",
       "      <td>9</td>\n",
       "      <td>0.45</td>\n",
       "      <td>0.50</td>\n",
       "      <td>5.0</td>\n",
       "      <td>0.05</td>\n",
       "    </tr>\n",
       "    <tr>\n",
       "      <td>10</td>\n",
       "      <td>0.50</td>\n",
       "      <td>0.55</td>\n",
       "      <td>5.0</td>\n",
       "      <td>0.05</td>\n",
       "    </tr>\n",
       "    <tr>\n",
       "      <td>11</td>\n",
       "      <td>0.55</td>\n",
       "      <td>0.60</td>\n",
       "      <td>5.0</td>\n",
       "      <td>0.05</td>\n",
       "    </tr>\n",
       "    <tr>\n",
       "      <td>12</td>\n",
       "      <td>0.60</td>\n",
       "      <td>0.65</td>\n",
       "      <td>4.0</td>\n",
       "      <td>0.04</td>\n",
       "    </tr>\n",
       "    <tr>\n",
       "      <td>13</td>\n",
       "      <td>0.65</td>\n",
       "      <td>0.70</td>\n",
       "      <td>3.0</td>\n",
       "      <td>0.03</td>\n",
       "    </tr>\n",
       "    <tr>\n",
       "      <td>14</td>\n",
       "      <td>0.70</td>\n",
       "      <td>0.75</td>\n",
       "      <td>4.0</td>\n",
       "      <td>0.04</td>\n",
       "    </tr>\n",
       "    <tr>\n",
       "      <td>15</td>\n",
       "      <td>0.75</td>\n",
       "      <td>0.80</td>\n",
       "      <td>5.0</td>\n",
       "      <td>0.05</td>\n",
       "    </tr>\n",
       "    <tr>\n",
       "      <td>16</td>\n",
       "      <td>0.80</td>\n",
       "      <td>0.85</td>\n",
       "      <td>10.0</td>\n",
       "      <td>0.10</td>\n",
       "    </tr>\n",
       "    <tr>\n",
       "      <td>17</td>\n",
       "      <td>0.85</td>\n",
       "      <td>0.90</td>\n",
       "      <td>5.0</td>\n",
       "      <td>0.05</td>\n",
       "    </tr>\n",
       "    <tr>\n",
       "      <td>18</td>\n",
       "      <td>0.90</td>\n",
       "      <td>0.95</td>\n",
       "      <td>4.0</td>\n",
       "      <td>0.04</td>\n",
       "    </tr>\n",
       "    <tr>\n",
       "      <td>19</td>\n",
       "      <td>0.95</td>\n",
       "      <td>1.00</td>\n",
       "      <td>4.0</td>\n",
       "      <td>0.04</td>\n",
       "    </tr>\n",
       "  </tbody>\n",
       "</table>\n",
       "</div>"
      ],
      "text/plain": [
       "    Интервал (x0)  Интервал (x1)  Кол-во СВ, попавших в интервал  \\\n",
       "0            0.00           0.05                             4.0   \n",
       "1            0.05           0.10                             7.0   \n",
       "2            0.10           0.15                             3.0   \n",
       "3            0.15           0.20                             7.0   \n",
       "4            0.20           0.25                             5.0   \n",
       "5            0.25           0.30                             6.0   \n",
       "6            0.30           0.35                             0.0   \n",
       "7            0.35           0.40                             6.0   \n",
       "8            0.40           0.45                             8.0   \n",
       "9            0.45           0.50                             5.0   \n",
       "10           0.50           0.55                             5.0   \n",
       "11           0.55           0.60                             5.0   \n",
       "12           0.60           0.65                             4.0   \n",
       "13           0.65           0.70                             3.0   \n",
       "14           0.70           0.75                             4.0   \n",
       "15           0.75           0.80                             5.0   \n",
       "16           0.80           0.85                            10.0   \n",
       "17           0.85           0.90                             5.0   \n",
       "18           0.90           0.95                             4.0   \n",
       "19           0.95           1.00                             4.0   \n",
       "\n",
       "    Относительная частота попадания  \n",
       "0                              0.04  \n",
       "1                              0.07  \n",
       "2                              0.03  \n",
       "3                              0.07  \n",
       "4                              0.05  \n",
       "5                              0.06  \n",
       "6                              0.00  \n",
       "7                              0.06  \n",
       "8                              0.08  \n",
       "9                              0.05  \n",
       "10                             0.05  \n",
       "11                             0.05  \n",
       "12                             0.04  \n",
       "13                             0.03  \n",
       "14                             0.04  \n",
       "15                             0.05  \n",
       "16                             0.10  \n",
       "17                             0.05  \n",
       "18                             0.04  \n",
       "19                             0.04  "
      ]
     },
     "execution_count": 408,
     "metadata": {},
     "output_type": "execute_result"
    }
   ],
   "source": [
    "# Количество интервалов\n",
    "L = 20\n",
    "# Шаг\n",
    "h = 1/(L)\n",
    "\n",
    "\n",
    "intervals = np.zeros((L, 4))\n",
    "\n",
    "for i in range(L):\n",
    "    intervals[i][0] = i*h\n",
    "    intervals[i][1] = i*h + h\n",
    "\n",
    "find_frequency(intervals, pseudo_rand_numbers, h)\n",
    "table = pd.DataFrame(columns=['Интервал (x0)', 'Интервал (x1)', 'Кол-во СВ, попавших в интервал', \"Относительная частота попадания\"],\n",
    "                    data=intervals)\n",
    "table"
   ]
  },
  {
   "cell_type": "markdown",
   "metadata": {},
   "source": [
    "### 1.4 Проверить гипотезу о законе распределения методом гистограмм, построить гистограмму, вывести ее на экран."
   ]
  },
  {
   "cell_type": "code",
   "execution_count": 409,
   "metadata": {},
   "outputs": [
    {
     "data": {
      "image/png": "[encoded data removed]",
      "text/plain": [
       "<Figure size 432x288 with 1 Axes>"
      ]
     },
     "metadata": {
      "needs_background": "light"
     },
     "output_type": "display_data"
    }
   ],
   "source": [
    "plt.hist(table['Интервал (x0)'], bins=L, weights=table['Относительная частота попадания'])\n",
    "plt.plot([1/L]*2)\n",
    "plt.xlabel('Intervals')\n",
    "plt.ylabel('Frequency')\n",
    "plt.show()"
   ]
  },
  {
   "cell_type": "markdown",
   "metadata": {},
   "source": [
    "# 2 Смоделировать дискретную случайную величину, заданную таблицей , результат вывести на экран."
   ]
  },
  {
   "cell_type": "markdown",
   "metadata": {},
   "source": [
    "| xi | 1 | 4 | 12 | 16 | 25 | 33 | 37 |\n",
    "|----|---|---|----|----|----|----|----|\n",
    "| pi | 0.05|0.25|0.25|0.15|0.13|0.1|0.07|"
   ]
  },
  {
   "cell_type": "code",
   "execution_count": 410,
   "metadata": {},
   "outputs": [
    {
     "data": {
      "text/html": [
       "<div>\n",
       "<style scoped>\n",
       "    .dataframe tbody tr th:only-of-type {\n",
       "        vertical-align: middle;\n",
       "    }\n",
       "\n",
       "    .dataframe tbody tr th {\n",
       "        vertical-align: top;\n",
       "    }\n",
       "\n",
       "    .dataframe thead th {\n",
       "        text-align: right;\n",
       "    }\n",
       "</style>\n",
       "<table border=\"1\" class=\"dataframe\">\n",
       "  <thead>\n",
       "    <tr style=\"text-align: right;\">\n",
       "      <th></th>\n",
       "      <th>Interval(x0)</th>\n",
       "      <th>Interval(x1)</th>\n",
       "      <th>Value</th>\n",
       "    </tr>\n",
       "  </thead>\n",
       "  <tbody>\n",
       "    <tr>\n",
       "      <td>0</td>\n",
       "      <td>0.00</td>\n",
       "      <td>0.05</td>\n",
       "      <td>1</td>\n",
       "    </tr>\n",
       "    <tr>\n",
       "      <td>0</td>\n",
       "      <td>0.05</td>\n",
       "      <td>0.30</td>\n",
       "      <td>4</td>\n",
       "    </tr>\n",
       "    <tr>\n",
       "      <td>0</td>\n",
       "      <td>0.30</td>\n",
       "      <td>0.55</td>\n",
       "      <td>12</td>\n",
       "    </tr>\n",
       "    <tr>\n",
       "      <td>0</td>\n",
       "      <td>0.55</td>\n",
       "      <td>0.70</td>\n",
       "      <td>16</td>\n",
       "    </tr>\n",
       "    <tr>\n",
       "      <td>0</td>\n",
       "      <td>0.70</td>\n",
       "      <td>0.83</td>\n",
       "      <td>25</td>\n",
       "    </tr>\n",
       "    <tr>\n",
       "      <td>0</td>\n",
       "      <td>0.83</td>\n",
       "      <td>0.93</td>\n",
       "      <td>33</td>\n",
       "    </tr>\n",
       "    <tr>\n",
       "      <td>0</td>\n",
       "      <td>0.93</td>\n",
       "      <td>1.00</td>\n",
       "      <td>37</td>\n",
       "    </tr>\n",
       "  </tbody>\n",
       "</table>\n",
       "</div>"
      ],
      "text/plain": [
       "   Interval(x0)  Interval(x1)  Value\n",
       "0          0.00          0.05      1\n",
       "0          0.05          0.30      4\n",
       "0          0.30          0.55     12\n",
       "0          0.55          0.70     16\n",
       "0          0.70          0.83     25\n",
       "0          0.83          0.93     33\n",
       "0          0.93          1.00     37"
      ]
     },
     "execution_count": 410,
     "metadata": {},
     "output_type": "execute_result"
    }
   ],
   "source": [
    "table = [[1, 0.05], \n",
    "         [4, 0.25], \n",
    "         [12, 0.25],\n",
    "         [16, 0.15],\n",
    "         [25, 0.13],\n",
    "         [33, 0.1],\n",
    "         [37, 0.07]]\n",
    "intervals = pd.DataFrame([[0, table[0][1],table[0][0]]], \n",
    "                         columns=['Interval(x0)', 'Interval(x1)', 'Value'])\n",
    "\n",
    "temp = table[0][1]\n",
    "# Разобьем интервал (0;1) точками из таблицы\n",
    "for i in range(1, len(table)):\n",
    "    intervals = intervals.append(pd.DataFrame(columns=intervals.columns, \n",
    "                              data=[[temp, temp + table[i][1], table[i][0]]]))\n",
    "    temp += table[i][1]\n",
    "    \n",
    "intervals"
   ]
  },
  {
   "cell_type": "code",
   "execution_count": null,
   "metadata": {},
   "outputs": [],
   "source": [
    "N = 1000\n",
    "# Сгенерируем N случайных чисел\n",
    "rand_numbers_numpy = np.random.uniform(0, 1, N)\n",
    "rand_numbers = []\n",
    "\n",
    "# Проверим, какому интервалу принадлежит каждое сгенерированное число\n",
    "# и получим другое случайное число, по заданной таблицы распределения\n",
    "for num in rand_numbers_numpy:\n",
    "    for index, interval in intervals.iterrows():\n",
    "        if interval['Interval(x0)'] <= num < interval['Interval(x1)']:\n",
    "            rand_numbers.append(interval['Value'])\n",
    "            continue\n",
    "# print(rand_numbers)\n",
    "\n",
    "plt.plot([x for x in range(N)], rand_numbers)\n",
    "plt.show()"
   ]
  },
  {
   "cell_type": "markdown",
   "metadata": {},
   "source": [
    "### 2.1 Оценить математическое ожидание полученной дискретной величины, результат вывести на экран."
   ]
  },
  {
   "cell_type": "code",
   "execution_count": 412,
   "metadata": {},
   "outputs": [
    {
     "name": "stdout",
     "output_type": "stream",
     "text": [
      "Теоретическое математическое ожидание =  15.59\n"
     ]
    }
   ],
   "source": [
    "# Найдем теоретическое математическое ожидание\n",
    "def teor_mo(table):\n",
    "    mo = 0\n",
    "    for value, p in table:\n",
    "        mo += value*p\n",
    "    return mo\n",
    "\n",
    "print(\"Теоретическое математическое ожидание = \", teor_mo(table))"
   ]
  },
  {
   "cell_type": "code",
   "execution_count": 413,
   "metadata": {},
   "outputs": [
    {
     "name": "stdout",
     "output_type": "stream",
     "text": [
      "Математическое ожидание, полученное в ходе эксперемента =  15.827\n"
     ]
    }
   ],
   "source": [
    "# Найдем математическое ожидание эксперементальное (оценка мат. ожидания)\n",
    "\n",
    "print('Математическое ожидание, полученное в ходе эксперемента = ', mo(rand_numbers))"
   ]
  },
  {
   "cell_type": "markdown",
   "metadata": {},
   "source": [
    "### 2.2 Оценить дисперсию полученной дискретной случайной величины, результат вывести на экран."
   ]
  },
  {
   "cell_type": "code",
   "execution_count": 414,
   "metadata": {},
   "outputs": [],
   "source": [
    "# Найдем теоретическую дисперсию\n",
    "def teor_disp(table):\n",
    "    mo = teor_mo(table)\n",
    "    mo_2 = teor_mo(list(map(lambda x: [x[0]**2, x[1]], table)))\n",
    "    return mo_2 - mo**2"
   ]
  },
  {
   "cell_type": "code",
   "execution_count": 415,
   "metadata": {},
   "outputs": [
    {
     "name": "stdout",
     "output_type": "stream",
     "text": [
      "Дисперсия теоретическая =  121.38190000000006\n"
     ]
    }
   ],
   "source": [
    "print('Дисперсия теоретическая = ', teor_disp(table))"
   ]
  },
  {
   "cell_type": "code",
   "execution_count": 416,
   "metadata": {},
   "outputs": [
    {
     "name": "stdout",
     "output_type": "stream",
     "text": [
      "Дисперсия, полученная в ходе эксперимента =  121.44651751751667\n"
     ]
    }
   ],
   "source": [
    "# Найдем дисперсию, полученную в ходе эксперимента (Оценку дисперсии)\n",
    "print('Дисперсия, полученная в ходе эксперимента = ', vd(rand_numbers))"
   ]
  },
  {
   "cell_type": "markdown",
   "metadata": {},
   "source": [
    "### 2.3 Построить частотную таблицу, вывести ее на экран."
   ]
  },
  {
   "cell_type": "code",
   "execution_count": 417,
   "metadata": {},
   "outputs": [
    {
     "data": {
      "text/html": [
       "<div>\n",
       "<style scoped>\n",
       "    .dataframe tbody tr th:only-of-type {\n",
       "        vertical-align: middle;\n",
       "    }\n",
       "\n",
       "    .dataframe tbody tr th {\n",
       "        vertical-align: top;\n",
       "    }\n",
       "\n",
       "    .dataframe thead th {\n",
       "        text-align: right;\n",
       "    }\n",
       "</style>\n",
       "<table border=\"1\" class=\"dataframe\">\n",
       "  <thead>\n",
       "    <tr style=\"text-align: right;\">\n",
       "      <th></th>\n",
       "      <th>Number</th>\n",
       "      <th>Frequency</th>\n",
       "    </tr>\n",
       "  </thead>\n",
       "  <tbody>\n",
       "    <tr>\n",
       "      <td>0</td>\n",
       "      <td>1.0</td>\n",
       "      <td>0.053</td>\n",
       "    </tr>\n",
       "    <tr>\n",
       "      <td>3</td>\n",
       "      <td>4.0</td>\n",
       "      <td>0.238</td>\n",
       "    </tr>\n",
       "    <tr>\n",
       "      <td>5</td>\n",
       "      <td>12.0</td>\n",
       "      <td>0.240</td>\n",
       "    </tr>\n",
       "    <tr>\n",
       "      <td>1</td>\n",
       "      <td>16.0</td>\n",
       "      <td>0.159</td>\n",
       "    </tr>\n",
       "    <tr>\n",
       "      <td>2</td>\n",
       "      <td>25.0</td>\n",
       "      <td>0.139</td>\n",
       "    </tr>\n",
       "    <tr>\n",
       "      <td>4</td>\n",
       "      <td>33.0</td>\n",
       "      <td>0.101</td>\n",
       "    </tr>\n",
       "    <tr>\n",
       "      <td>6</td>\n",
       "      <td>37.0</td>\n",
       "      <td>0.070</td>\n",
       "    </tr>\n",
       "  </tbody>\n",
       "</table>\n",
       "</div>"
      ],
      "text/plain": [
       "   Number  Frequency\n",
       "0     1.0      0.053\n",
       "3     4.0      0.238\n",
       "5    12.0      0.240\n",
       "1    16.0      0.159\n",
       "2    25.0      0.139\n",
       "4    33.0      0.101\n",
       "6    37.0      0.070"
      ]
     },
     "execution_count": 417,
     "metadata": {},
     "output_type": "execute_result"
    }
   ],
   "source": [
    "from collections import defaultdict\n",
    "\n",
    "temp_dict = defaultdict(int)\n",
    "for num in rand_numbers:\n",
    "    temp_dict[num] += 1/len(rand_numbers)\n",
    "\n",
    "freq_table = pd.DataFrame(data=list(temp_dict.items()), columns=['Number', 'Frequency'])\n",
    "freq_table = freq_table.sort_values(by=['Number'])\n",
    "freq_table"
   ]
  },
  {
   "cell_type": "markdown",
   "metadata": {},
   "source": [
    "### 2.4 Оценить закон распределения случайной величины по графику частоты появление ее значений в результате эксперементов."
   ]
  },
  {
   "cell_type": "code",
   "execution_count": 418,
   "metadata": {},
   "outputs": [
    {
     "data": {
      "image/png": "[encoded data removed]",
      "text/plain": [
       "<Figure size 432x288 with 1 Axes>"
      ]
     },
     "metadata": {
      "needs_background": "light"
     },
     "output_type": "display_data"
    }
   ],
   "source": [
    "plt.scatter(freq_table['Number'], freq_table['Frequency'], label='Эксперемент')\n",
    "plt.xlabel('Intervals')\n",
    "plt.ylabel('Frequency')\n",
    "plt.scatter([table[i][0] for i in range(len(table))], [table[i][1] for i in range(len(table))], label='Таблица')\n",
    "plt.legend()\n",
    "plt.show()"
   ]
  },
  {
   "cell_type": "markdown",
   "metadata": {},
   "source": [
    "# 3. Смоделировать методом исключений непрерывную случайную величину с заданной плотностью распределения вероятности."
   ]
  },
  {
   "cell_type": "code",
   "execution_count": 419,
   "metadata": {},
   "outputs": [],
   "source": [
    "# Функция плотности распределения\n",
    "def func_of_density(x):\n",
    "    if x < 0 or x >= 8:\n",
    "        return 0\n",
    "    if x < 2:\n",
    "        return x/8\n",
    "    if x < 4:\n",
    "        return (x-2)/8\n",
    "    if x < 6:\n",
    "        return (x-4)/8\n",
    "    if x < 8:\n",
    "        return (x-6)/8\n",
    "    \n",
    "# Функция плотности для нахождения интеграла для нахождения мат.ожидания\n",
    "# f(x)*x\n"
   ]
  },
  {
   "cell_type": "code",
   "execution_count": 420,
   "metadata": {},
   "outputs": [
    {
     "data": {
      "image/png": "[encoded data removed]",
      "text/plain": [
       "<Figure size 432x288 with 1 Axes>"
      ]
     },
     "metadata": {
      "needs_background": "light"
     },
     "output_type": "display_data"
    }
   ],
   "source": [
    "x = np.arange(0, 8.01, 1/100)\n",
    "x_density = list(map(func_of_density, x))\n",
    "plt.plot(x, x_density)\n",
    "plt.show()"
   ]
  },
  {
   "cell_type": "code",
   "execution_count": 421,
   "metadata": {},
   "outputs": [],
   "source": [
    "N = 100000\n",
    "a, b = 0, 8\n",
    "rand_numbers_3 = []\n",
    "M = 0.25\n",
    "while len(rand_numbers_3) < N:\n",
    "    resid_M = np.random.randint(11111, 1111111111)\n",
    "    if resid_M % 2 == 0:\n",
    "        resid_M = resid_M + 1\n",
    "    r1, r2 = residual_method(resid_M, m, 2)\n",
    "    x0 = a + r1*(b-a)\n",
    "    nu = r2*M\n",
    "    if nu > func_of_density(x0):\n",
    "        continue\n",
    "    else:\n",
    "        rand_numbers_3.append(x0)\n",
    "# rand_numbers_3"
   ]
  },
  {
   "cell_type": "markdown",
   "metadata": {},
   "source": [
    "### 3.1 - 3.2 Оценить математическое ожидание и дисперсию полученной непрерывной случайной величины, результат вывести на экран"
   ]
  },
  {
   "cell_type": "code",
   "execution_count": 422,
   "metadata": {},
   "outputs": [
    {
     "name": "stdout",
     "output_type": "stream",
     "text": [
      "Оценка математического ожидания =  4.326197109375\n",
      "Ожидаемое математическое ожидание =  4.316666666666666\n"
     ]
    }
   ],
   "source": [
    "from scipy import integrate\n",
    "\n",
    "print(\"Оценка математического ожидания = \", mo(rand_numbers_3))\n",
    "\n",
    "wait_mo = integrate.simps(x_density*x, x)\n",
    "print(\"Ожидаемое математическое ожидание = \", wait_mo)"
   ]
  },
  {
   "cell_type": "code",
   "execution_count": 423,
   "metadata": {},
   "outputs": [
    {
     "name": "stdout",
     "output_type": "stream",
     "text": [
      "Оценка дисперсии =  5.248618049203175\n",
      "Ожидаемая дисперсия =  5.266388888888894\n"
     ]
    }
   ],
   "source": [
    "print(\"Оценка дисперсии = \", vd(rand_numbers_3))\n",
    "\n",
    "# Найдем ожидаемую дисперсию по формуле:\n",
    "# D = integral(f(x)*x^2)(a, b) - integral^2(f(x)*x)(a,b)\n",
    "disp = integrate.simps(x_density*x*x, x) - wait_mo**2\n",
    "print(\"Ожидаемая дисперсия = \", disp)"
   ]
  },
  {
   "cell_type": "markdown",
   "metadata": {},
   "source": [
    "### 3.3 Построить частотную таблицу, вывести ее на экран "
   ]
  },
  {
   "cell_type": "code",
   "execution_count": 502,
   "metadata": {},
   "outputs": [
    {
     "data": {
      "text/html": [
       "<div>\n",
       "<style scoped>\n",
       "    .dataframe tbody tr th:only-of-type {\n",
       "        vertical-align: middle;\n",
       "    }\n",
       "\n",
       "    .dataframe tbody tr th {\n",
       "        vertical-align: top;\n",
       "    }\n",
       "\n",
       "    .dataframe thead th {\n",
       "        text-align: right;\n",
       "    }\n",
       "</style>\n",
       "<table border=\"1\" class=\"dataframe\">\n",
       "  <thead>\n",
       "    <tr style=\"text-align: right;\">\n",
       "      <th></th>\n",
       "      <th>x0</th>\n",
       "      <th>x1</th>\n",
       "      <th>freq</th>\n",
       "    </tr>\n",
       "  </thead>\n",
       "  <tbody>\n",
       "    <tr>\n",
       "      <td>0</td>\n",
       "      <td>0.00</td>\n",
       "      <td>0.08</td>\n",
       "      <td>0.00408</td>\n",
       "    </tr>\n",
       "    <tr>\n",
       "      <td>1</td>\n",
       "      <td>0.08</td>\n",
       "      <td>0.16</td>\n",
       "      <td>0.00000</td>\n",
       "    </tr>\n",
       "    <tr>\n",
       "      <td>2</td>\n",
       "      <td>0.16</td>\n",
       "      <td>0.24</td>\n",
       "      <td>0.00195</td>\n",
       "    </tr>\n",
       "    <tr>\n",
       "      <td>3</td>\n",
       "      <td>0.24</td>\n",
       "      <td>0.32</td>\n",
       "      <td>0.00418</td>\n",
       "    </tr>\n",
       "    <tr>\n",
       "      <td>4</td>\n",
       "      <td>0.32</td>\n",
       "      <td>0.40</td>\n",
       "      <td>0.00205</td>\n",
       "    </tr>\n",
       "    <tr>\n",
       "      <td>...</td>\n",
       "      <td>...</td>\n",
       "      <td>...</td>\n",
       "      <td>...</td>\n",
       "    </tr>\n",
       "    <tr>\n",
       "      <td>95</td>\n",
       "      <td>7.60</td>\n",
       "      <td>7.68</td>\n",
       "      <td>0.01601</td>\n",
       "    </tr>\n",
       "    <tr>\n",
       "      <td>96</td>\n",
       "      <td>7.68</td>\n",
       "      <td>7.76</td>\n",
       "      <td>0.01628</td>\n",
       "    </tr>\n",
       "    <tr>\n",
       "      <td>97</td>\n",
       "      <td>7.76</td>\n",
       "      <td>7.84</td>\n",
       "      <td>0.01896</td>\n",
       "    </tr>\n",
       "    <tr>\n",
       "      <td>98</td>\n",
       "      <td>7.84</td>\n",
       "      <td>7.92</td>\n",
       "      <td>0.01926</td>\n",
       "    </tr>\n",
       "    <tr>\n",
       "      <td>99</td>\n",
       "      <td>7.92</td>\n",
       "      <td>8.00</td>\n",
       "      <td>0.02012</td>\n",
       "    </tr>\n",
       "  </tbody>\n",
       "</table>\n",
       "<p>100 rows × 3 columns</p>\n",
       "</div>"
      ],
      "text/plain": [
       "      x0    x1     freq\n",
       "0   0.00  0.08  0.00408\n",
       "1   0.08  0.16  0.00000\n",
       "2   0.16  0.24  0.00195\n",
       "3   0.24  0.32  0.00418\n",
       "4   0.32  0.40  0.00205\n",
       "..   ...   ...      ...\n",
       "95  7.60  7.68  0.01601\n",
       "96  7.68  7.76  0.01628\n",
       "97  7.76  7.84  0.01896\n",
       "98  7.84  7.92  0.01926\n",
       "99  7.92  8.00  0.02012\n",
       "\n",
       "[100 rows x 3 columns]"
      ]
     },
     "execution_count": 502,
     "metadata": {},
     "output_type": "execute_result"
    }
   ],
   "source": [
    "L = 100\n",
    "h = (b-a)/L\n",
    "x0 = a\n",
    "temp_dict = defaultdict(int)\n",
    "l = len(rand_numbers_3)\n",
    "for _ in range(L):\n",
    "    x1 = x0 + h\n",
    "    temp_dict[(x0, x1)] = 0\n",
    "    for num in rand_numbers_3:\n",
    "        if x0 < num < x1:\n",
    "            temp_dict[(x0, x1)] += 1/l\n",
    "    x0 = x1\n",
    "    \n",
    "frequenty_table = pd.DataFrame(columns=['x0', 'x1', 'freq'], \n",
    "                               data=[[x[0], x[1], freq] for x, freq in temp_dict.items()])\n",
    "frequenty_table"
   ]
  },
  {
   "cell_type": "markdown",
   "metadata": {},
   "source": [
    "### 3.4 Проверить гипотезу о законе распределения методом гистограмм, построить и вывести на экран гистограмму"
   ]
  },
  {
   "cell_type": "code",
   "execution_count": 504,
   "metadata": {},
   "outputs": [
    {
     "data": {
      "image/png": "[encoded data removed]",
      "text/plain": [
       "<Figure size 432x288 with 1 Axes>"
      ]
     },
     "metadata": {
      "needs_background": "light"
     },
     "output_type": "display_data"
    }
   ],
   "source": [
    "# plt.hist(frequenty_table['x0'], bins=L, width=frequenty_table['freq'])\n",
    "plt.hist(rand_numbers_3, bins=L, density=1)\n",
    "plt.plot(x, [x for x in x_density])\n",
    "plt.xlabel('Intervals')\n",
    "plt.ylabel('Frequency')\n",
    "plt.show()"
   ]
  }
 ],
 "metadata": {
  "kernelspec": {
   "display_name": "Python 3",
   "language": "python",
   "name": "python3"
  },
  "language_info": {
   "codemirror_mode": {
    "name": "ipython",
    "version": 3
   },
   "file_extension": ".py",
   "mimetype": "text/x-python",
   "name": "python",
   "nbconvert_exporter": "python",
   "pygments_lexer": "ipython3",
   "version": "3.7.4"
  }
 },
 "nbformat": 4,
 "nbformat_minor": 2
}
